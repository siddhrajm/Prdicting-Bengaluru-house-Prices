{
 "cells": [
  {
   "cell_type": "markdown",
   "metadata": {},
   "source": [
    "## Bengaluru House Price Prediction"
   ]
  },
  {
   "cell_type": "markdown",
   "metadata": {},
   "source": [
    "#### By Siddharaj Maramwar"
   ]
  },
  {
   "cell_type": "code",
   "execution_count": 45,
   "metadata": {},
   "outputs": [],
   "source": [
    "import pandas as pd"
   ]
  },
  {
   "cell_type": "code",
   "execution_count": 46,
   "metadata": {},
   "outputs": [],
   "source": [
    "file_path = \"C:/Users/Sddhraj/Downloads/Bengaluru_House_Data.csv\""
   ]
  },
  {
   "cell_type": "code",
   "execution_count": 47,
   "metadata": {},
   "outputs": [],
   "source": [
    "home_data = pd.read_csv(file_path)"
   ]
  },
  {
   "cell_type": "code",
   "execution_count": 48,
   "metadata": {},
   "outputs": [
    {
     "data": {
      "text/html": [
       "<div>\n",
       "<style scoped>\n",
       "    .dataframe tbody tr th:only-of-type {\n",
       "        vertical-align: middle;\n",
       "    }\n",
       "\n",
       "    .dataframe tbody tr th {\n",
       "        vertical-align: top;\n",
       "    }\n",
       "\n",
       "    .dataframe thead th {\n",
       "        text-align: right;\n",
       "    }\n",
       "</style>\n",
       "<table border=\"1\" class=\"dataframe\">\n",
       "  <thead>\n",
       "    <tr style=\"text-align: right;\">\n",
       "      <th></th>\n",
       "      <th>area_type</th>\n",
       "      <th>availability</th>\n",
       "      <th>location</th>\n",
       "      <th>size</th>\n",
       "      <th>society</th>\n",
       "      <th>total_sqft</th>\n",
       "      <th>bath</th>\n",
       "      <th>balcony</th>\n",
       "      <th>price</th>\n",
       "    </tr>\n",
       "  </thead>\n",
       "  <tbody>\n",
       "    <tr>\n",
       "      <th>0</th>\n",
       "      <td>Super built-up  Area</td>\n",
       "      <td>19-Dec</td>\n",
       "      <td>Electronic City Phase II</td>\n",
       "      <td>2 BHK</td>\n",
       "      <td>Coomee</td>\n",
       "      <td>1056</td>\n",
       "      <td>2.0</td>\n",
       "      <td>1.0</td>\n",
       "      <td>39.07</td>\n",
       "    </tr>\n",
       "    <tr>\n",
       "      <th>1</th>\n",
       "      <td>Plot  Area</td>\n",
       "      <td>Ready To Move</td>\n",
       "      <td>Chikka Tirupathi</td>\n",
       "      <td>4 Bedroom</td>\n",
       "      <td>Theanmp</td>\n",
       "      <td>2600</td>\n",
       "      <td>5.0</td>\n",
       "      <td>3.0</td>\n",
       "      <td>120.00</td>\n",
       "    </tr>\n",
       "    <tr>\n",
       "      <th>2</th>\n",
       "      <td>Built-up  Area</td>\n",
       "      <td>Ready To Move</td>\n",
       "      <td>Uttarahalli</td>\n",
       "      <td>3 BHK</td>\n",
       "      <td>NaN</td>\n",
       "      <td>1440</td>\n",
       "      <td>2.0</td>\n",
       "      <td>3.0</td>\n",
       "      <td>62.00</td>\n",
       "    </tr>\n",
       "    <tr>\n",
       "      <th>3</th>\n",
       "      <td>Super built-up  Area</td>\n",
       "      <td>Ready To Move</td>\n",
       "      <td>Lingadheeranahalli</td>\n",
       "      <td>3 BHK</td>\n",
       "      <td>Soiewre</td>\n",
       "      <td>1521</td>\n",
       "      <td>3.0</td>\n",
       "      <td>1.0</td>\n",
       "      <td>95.00</td>\n",
       "    </tr>\n",
       "    <tr>\n",
       "      <th>4</th>\n",
       "      <td>Super built-up  Area</td>\n",
       "      <td>Ready To Move</td>\n",
       "      <td>Kothanur</td>\n",
       "      <td>2 BHK</td>\n",
       "      <td>NaN</td>\n",
       "      <td>1200</td>\n",
       "      <td>2.0</td>\n",
       "      <td>1.0</td>\n",
       "      <td>51.00</td>\n",
       "    </tr>\n",
       "  </tbody>\n",
       "</table>\n",
       "</div>"
      ],
      "text/plain": [
       "              area_type   availability                  location       size  \\\n",
       "0  Super built-up  Area         19-Dec  Electronic City Phase II      2 BHK   \n",
       "1            Plot  Area  Ready To Move          Chikka Tirupathi  4 Bedroom   \n",
       "2        Built-up  Area  Ready To Move               Uttarahalli      3 BHK   \n",
       "3  Super built-up  Area  Ready To Move        Lingadheeranahalli      3 BHK   \n",
       "4  Super built-up  Area  Ready To Move                  Kothanur      2 BHK   \n",
       "\n",
       "   society total_sqft  bath  balcony   price  \n",
       "0  Coomee        1056   2.0      1.0   39.07  \n",
       "1  Theanmp       2600   5.0      3.0  120.00  \n",
       "2      NaN       1440   2.0      3.0   62.00  \n",
       "3  Soiewre       1521   3.0      1.0   95.00  \n",
       "4      NaN       1200   2.0      1.0   51.00  "
      ]
     },
     "execution_count": 48,
     "metadata": {},
     "output_type": "execute_result"
    }
   ],
   "source": [
    "home_data.head()"
   ]
  },
  {
   "cell_type": "code",
   "execution_count": 49,
   "metadata": {},
   "outputs": [
    {
     "data": {
      "text/plain": [
       "(13320, 9)"
      ]
     },
     "execution_count": 49,
     "metadata": {},
     "output_type": "execute_result"
    }
   ],
   "source": [
    "home_data.shape"
   ]
  },
  {
   "cell_type": "markdown",
   "metadata": {},
   "source": [
    "Drop missing value rows"
   ]
  },
  {
   "cell_type": "code",
   "execution_count": 50,
   "metadata": {},
   "outputs": [],
   "source": [
    "home_data = home_data.dropna(axis=0)"
   ]
  },
  {
   "cell_type": "code",
   "execution_count": 51,
   "metadata": {
    "scrolled": true
   },
   "outputs": [
    {
     "data": {
      "text/plain": [
       "(7340, 9)"
      ]
     },
     "execution_count": 51,
     "metadata": {},
     "output_type": "execute_result"
    }
   ],
   "source": [
    "home_data.shape"
   ]
  },
  {
   "cell_type": "code",
   "execution_count": 52,
   "metadata": {},
   "outputs": [],
   "source": [
    "from sklearn.preprocessing import LabelEncoder"
   ]
  },
  {
   "cell_type": "markdown",
   "metadata": {},
   "source": [
    "Use Label Encoder to convert stings to numberics"
   ]
  },
  {
   "cell_type": "code",
   "execution_count": 53,
   "metadata": {},
   "outputs": [],
   "source": [
    "le = LabelEncoder()"
   ]
  },
  {
   "cell_type": "code",
   "execution_count": 54,
   "metadata": {},
   "outputs": [
    {
     "data": {
      "text/plain": [
       "Super built-up  Area    5884\n",
       "Built-up  Area          1147\n",
       "Plot  Area               263\n",
       "Carpet  Area              46\n",
       "Name: area_type, dtype: int64"
      ]
     },
     "execution_count": 54,
     "metadata": {},
     "output_type": "execute_result"
    }
   ],
   "source": [
    "home_data[\"area_type\"].value_counts()"
   ]
  },
  {
   "cell_type": "code",
   "execution_count": 55,
   "metadata": {},
   "outputs": [],
   "source": [
    "home_data[\"area_type\"] = le.fit_transform(home_data[\"area_type\"])"
   ]
  },
  {
   "cell_type": "code",
   "execution_count": 56,
   "metadata": {},
   "outputs": [
    {
     "data": {
      "text/plain": [
       "3    5884\n",
       "0    1147\n",
       "2     263\n",
       "1      46\n",
       "Name: area_type, dtype: int64"
      ]
     },
     "execution_count": 56,
     "metadata": {},
     "output_type": "execute_result"
    }
   ],
   "source": [
    "home_data[\"area_type\"].value_counts()"
   ]
  },
  {
   "cell_type": "code",
   "execution_count": 57,
   "metadata": {
    "scrolled": true
   },
   "outputs": [
    {
     "data": {
      "text/plain": [
       "Whitefield                    381\n",
       "Sarjapur  Road                304\n",
       "Electronic City               236\n",
       "Kanakpura Road                212\n",
       "Thanisandra                   201\n",
       "Yelahanka                     154\n",
       "Hebbal                        148\n",
       "Raja Rajeshwari Nagar         135\n",
       "Hennur Road                   120\n",
       "Electronic City Phase II      117\n",
       "Bannerghatta Road             102\n",
       "Uttarahalli                   102\n",
       "7th Phase JP Nagar             98\n",
       "Marathahalli                   98\n",
       "Haralur Road                   90\n",
       "Chandapura                     70\n",
       "Hoodi                          67\n",
       "Old Madras Road                63\n",
       "Rajaji Nagar                   63\n",
       "Begur Road                     62\n",
       "Yeshwanthpur                   60\n",
       "Bellandur                      59\n",
       "Jakkur                         56\n",
       "Electronics City Phase 1       55\n",
       "Hosa Road                      55\n",
       "Varthur                        53\n",
       "Harlur                         52\n",
       "Thigalarapalya                 51\n",
       "Bisuvanahalli                  50\n",
       "Budigere                       49\n",
       "                             ... \n",
       "B Channasandra                  1\n",
       " Rachenahalli                   1\n",
       "Virudhu Nagar                   1\n",
       "Adarsh Nagar                    1\n",
       "Bande Nallasandra               1\n",
       "Canara Bank Layout              1\n",
       "Church Street                   1\n",
       "Remco Bhel Layout               1\n",
       "Nanjappa Garden                 1\n",
       "Vikram Nagar                    1\n",
       "Maheswari Nagar                 1\n",
       "Kempapura                       1\n",
       " Banaswadi                      1\n",
       "Doddabidrakallu                 1\n",
       "Chikkabidarakallu               1\n",
       "Jagadish Nagar                  1\n",
       "Anantapuram                     1\n",
       "Mango Garden Layout             1\n",
       "Thirumalashettyhally            1\n",
       "Thirupalya                      1\n",
       "Varanasi                        1\n",
       "Near International Airport      1\n",
       "Upkar Layout                    1\n",
       "Nagadevanahalli                 1\n",
       "Prakruthi Nagar                 1\n",
       "Malimakanapura                  1\n",
       "Bethel Nagar                    1\n",
       "Kacharakanahalli                1\n",
       "Devarabeesana Halli             1\n",
       "NR Colony                       1\n",
       "Name: location, Length: 631, dtype: int64"
      ]
     },
     "execution_count": 57,
     "metadata": {},
     "output_type": "execute_result"
    }
   ],
   "source": [
    "home_data[\"location\"].value_counts()"
   ]
  },
  {
   "cell_type": "code",
   "execution_count": 58,
   "metadata": {},
   "outputs": [],
   "source": [
    "home_data[\"location\"] = le.fit_transform(home_data[\"location\"])"
   ]
  },
  {
   "cell_type": "code",
   "execution_count": 59,
   "metadata": {
    "scrolled": true
   },
   "outputs": [
    {
     "data": {
      "text/plain": [
       "622    381\n",
       "518    304\n",
       "207    236\n",
       "334    212\n",
       "570    201\n",
       "625    154\n",
       "254    148\n",
       "487    135\n",
       "260    120\n",
       "208    117\n",
       "91     102\n",
       "587    102\n",
       "24      98\n",
       "404     98\n",
       "251     90\n",
       "139     70\n",
       "265     67\n",
       "450     63\n",
       "489     63\n",
       "100     62\n",
       "629     60\n",
       "103     59\n",
       "292     56\n",
       "270     55\n",
       "209     55\n",
       "594     53\n",
       "253     52\n",
       "571     51\n",
       "118     50\n",
       "126     49\n",
       "      ... \n",
       "5        1\n",
       "9        1\n",
       "13       1\n",
       "17       1\n",
       "406      1\n",
       "410      1\n",
       "161      1\n",
       "157      1\n",
       "149      1\n",
       "145      1\n",
       "414      1\n",
       "137      1\n",
       "422      1\n",
       "121      1\n",
       "113      1\n",
       "438      1\n",
       "454      1\n",
       "89       1\n",
       "458      1\n",
       "466      1\n",
       "73       1\n",
       "470      1\n",
       "474      1\n",
       "61       1\n",
       "486      1\n",
       "49       1\n",
       "33       1\n",
       "29       1\n",
       "498      1\n",
       "0        1\n",
       "Name: location, Length: 631, dtype: int64"
      ]
     },
     "execution_count": 59,
     "metadata": {},
     "output_type": "execute_result"
    }
   ],
   "source": [
    "home_data[\"location\"].value_counts()"
   ]
  },
  {
   "cell_type": "code",
   "execution_count": 60,
   "metadata": {},
   "outputs": [
    {
     "data": {
      "text/plain": [
       "2 BHK        3367\n",
       "3 BHK        2983\n",
       "4 BHK         321\n",
       "1 BHK         312\n",
       "4 Bedroom     184\n",
       "3 Bedroom     116\n",
       "5 Bedroom      16\n",
       "2 Bedroom      15\n",
       "1 RK            9\n",
       "5 BHK           8\n",
       "6 Bedroom       3\n",
       "6 BHK           3\n",
       "9 BHK           1\n",
       "7 BHK           1\n",
       "11 BHK          1\n",
       "Name: size, dtype: int64"
      ]
     },
     "execution_count": 60,
     "metadata": {},
     "output_type": "execute_result"
    }
   ],
   "source": [
    "home_data[\"size\"].value_counts()"
   ]
  },
  {
   "cell_type": "code",
   "execution_count": 61,
   "metadata": {},
   "outputs": [],
   "source": [
    "home_data[\"size\"] = le.fit_transform(home_data[\"size\"])"
   ]
  },
  {
   "cell_type": "code",
   "execution_count": 62,
   "metadata": {},
   "outputs": [
    {
     "data": {
      "text/plain": [
       "3     3367\n",
       "5     2983\n",
       "7      321\n",
       "0      312\n",
       "8      184\n",
       "6      116\n",
       "10      16\n",
       "4       15\n",
       "1        9\n",
       "9        8\n",
       "11       3\n",
       "12       3\n",
       "14       1\n",
       "2        1\n",
       "13       1\n",
       "Name: size, dtype: int64"
      ]
     },
     "execution_count": 62,
     "metadata": {},
     "output_type": "execute_result"
    }
   ],
   "source": [
    "home_data[\"size\"].value_counts()"
   ]
  },
  {
   "cell_type": "code",
   "execution_count": 63,
   "metadata": {
    "scrolled": true
   },
   "outputs": [
    {
     "data": {
      "text/plain": [
       "1200       172\n",
       "1100       107\n",
       "1000        78\n",
       "1500        74\n",
       "1300        71\n",
       "1140        58\n",
       "1400        54\n",
       "1600        52\n",
       "1450        50\n",
       "1050        50\n",
       "1350        49\n",
       "1075        48\n",
       "1255        46\n",
       "1150        44\n",
       "1550        44\n",
       "1250        43\n",
       "1800        41\n",
       "1180        40\n",
       "1260        36\n",
       "950         36\n",
       "1185        33\n",
       "2400        33\n",
       "900         33\n",
       "1220        31\n",
       "1125        31\n",
       "1700        31\n",
       "1160        31\n",
       "1070        30\n",
       "1650        30\n",
       "1020        29\n",
       "          ... \n",
       "2282         1\n",
       "1054         1\n",
       "607          1\n",
       "2185         1\n",
       "1547         1\n",
       "2095         1\n",
       "1922         1\n",
       "686          1\n",
       "2302         1\n",
       "934          1\n",
       "966          1\n",
       "1193         1\n",
       "2625         1\n",
       "2663         1\n",
       "1701         1\n",
       "1483         1\n",
       "833          1\n",
       "694          1\n",
       "2526         1\n",
       "2360         1\n",
       "1448         1\n",
       "1815         1\n",
       "1020.07      1\n",
       "1716         1\n",
       "1651         1\n",
       "1679         1\n",
       "2462         1\n",
       "492          1\n",
       "3463         1\n",
       "3362         1\n",
       "Name: total_sqft, Length: 1541, dtype: int64"
      ]
     },
     "execution_count": 63,
     "metadata": {},
     "output_type": "execute_result"
    }
   ],
   "source": [
    "home_data[\"total_sqft\"].value_counts()"
   ]
  },
  {
   "cell_type": "markdown",
   "metadata": {},
   "source": [
    "Selecting Prediction Target"
   ]
  },
  {
   "cell_type": "code",
   "execution_count": 64,
   "metadata": {},
   "outputs": [],
   "source": [
    "y = home_data.price"
   ]
  },
  {
   "cell_type": "markdown",
   "metadata": {},
   "source": [
    "Choosing Features"
   ]
  },
  {
   "cell_type": "code",
   "execution_count": 66,
   "metadata": {},
   "outputs": [],
   "source": [
    "blr_features = ['area_type','location','size','total_sqft', 'bath', 'balcony',]"
   ]
  },
  {
   "cell_type": "code",
   "execution_count": 67,
   "metadata": {},
   "outputs": [],
   "source": [
    "X = home_data[blr_features]"
   ]
  },
  {
   "cell_type": "code",
   "execution_count": 68,
   "metadata": {},
   "outputs": [
    {
     "data": {
      "text/plain": [
       "DecisionTreeRegressor(criterion='mse', max_depth=None, max_features=None,\n",
       "                      max_leaf_nodes=None, min_impurity_decrease=0.0,\n",
       "                      min_impurity_split=None, min_samples_leaf=1,\n",
       "                      min_samples_split=2, min_weight_fraction_leaf=0.0,\n",
       "                      presort=False, random_state=1, splitter='best')"
      ]
     },
     "execution_count": 68,
     "metadata": {},
     "output_type": "execute_result"
    }
   ],
   "source": [
    "from sklearn.tree import DecisionTreeRegressor\n",
    "\n",
    "# Define model. Specify a number for random_state to ensure same results each run\n",
    "blr_model = DecisionTreeRegressor(random_state=1)\n",
    "\n",
    "# Fit model\n",
    "blr_model.fit(X, y)"
   ]
  },
  {
   "cell_type": "code",
   "execution_count": 70,
   "metadata": {
    "scrolled": true
   },
   "outputs": [
    {
     "name": "stdout",
     "output_type": "stream",
     "text": [
      "Making predictions for the first 5 houses:\n",
      "    area_type  location  size total_sqft  bath  balcony\n",
      "0           3       208     3       1056   2.0      1.0\n",
      "1           2       147     8       2600   5.0      3.0\n",
      "3           3       384     5       1521   3.0      1.0\n",
      "5           3       622     3       1170   2.0      1.0\n",
      "11          2       622     8       2785   5.0      3.0\n",
      "The predictions are\n",
      "[ 39.07 120.    94.9   55.   295.  ]\n"
     ]
    }
   ],
   "source": [
    "print(\"Making predictions for the first 5 houses:\")\n",
    "print(X.head())\n",
    "print(\"The predictions are\")\n",
    "print(blr_model.predict(X.head()))"
   ]
  },
  {
   "cell_type": "markdown",
   "metadata": {},
   "source": [
    "Measuring accuracy"
   ]
  },
  {
   "cell_type": "code",
   "execution_count": 71,
   "metadata": {},
   "outputs": [
    {
     "data": {
      "text/plain": [
       "1.6330122417833453"
      ]
     },
     "execution_count": 71,
     "metadata": {},
     "output_type": "execute_result"
    }
   ],
   "source": [
    "from sklearn.metrics import mean_absolute_error\n",
    "\n",
    "predicted_home_prices = blr_model.predict(X)\n",
    "mean_absolute_error(y, predicted_home_prices)"
   ]
  },
  {
   "cell_type": "markdown",
   "metadata": {},
   "source": [
    "Solving the in-sample conflict using splitting the dataset into two groups. (train data and test data)"
   ]
  },
  {
   "cell_type": "code",
   "execution_count": 72,
   "metadata": {},
   "outputs": [
    {
     "name": "stdout",
     "output_type": "stream",
     "text": [
      "25.692170517947087\n"
     ]
    }
   ],
   "source": [
    "from sklearn.model_selection import train_test_split\n",
    "\n",
    "# split data into training and validation data, for both features and target\n",
    "# The split is based on a random number generator. Supplying a numeric value to\n",
    "# the random_state argument guarantees we get the same split every time we\n",
    "# run this script.\n",
    "train_X, val_X, train_y, val_y = train_test_split(X, y, random_state = 0)\n",
    "# Define model\n",
    "blr_model = DecisionTreeRegressor()\n",
    "# Fit model\n",
    "blr_model.fit(train_X, train_y)\n",
    "\n",
    "# get predicted prices on validation data\n",
    "val_predictions = blr_model.predict(val_X)\n",
    "print(mean_absolute_error(val_y, val_predictions))"
   ]
  },
  {
   "cell_type": "code",
   "execution_count": null,
   "metadata": {},
   "outputs": [],
   "source": []
  }
 ],
 "metadata": {
  "kernelspec": {
   "display_name": "Python 3",
   "language": "python",
   "name": "python3"
  },
  "language_info": {
   "codemirror_mode": {
    "name": "ipython",
    "version": 3
   },
   "file_extension": ".py",
   "mimetype": "text/x-python",
   "name": "python",
   "nbconvert_exporter": "python",
   "pygments_lexer": "ipython3",
   "version": "3.7.3"
  }
 },
 "nbformat": 4,
 "nbformat_minor": 2
}
